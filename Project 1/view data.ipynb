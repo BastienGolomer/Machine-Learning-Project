{
 "cells": [
  {
   "cell_type": "code",
   "execution_count": 1,
   "id": "a309f408",
   "metadata": {},
   "outputs": [],
   "source": [
    "import numpy as np\n",
    "import csv\n",
    "import matplotlib.pyplot as plt\n",
    "import random\n",
    "import loading as ld\n",
    "import implementations as imp\n",
    "import confusion_matrix as conf"
   ]
  },
  {
   "cell_type": "code",
   "execution_count": 2,
   "id": "a0b4574c",
   "metadata": {},
   "outputs": [],
   "source": [
    "# load the data using our own method\n",
    "y, X, ids = ld.load_csv_data('train.csv')"
   ]
  },
  {
   "cell_type": "code",
   "execution_count": 3,
   "id": "200ff600",
   "metadata": {},
   "outputs": [
    {
     "data": {
      "text/plain": [
       "array(['DER_mass_MMC', 'DER_mass_transverse_met_lep', 'DER_mass_vis',\n",
       "       'DER_pt_h', 'DER_deltaeta_jet_jet', 'DER_mass_jet_jet',\n",
       "       'DER_prodeta_jet_jet', 'DER_deltar_tau_lep', 'DER_pt_tot',\n",
       "       'DER_sum_pt', 'DER_pt_ratio_lep_tau', 'DER_met_phi_centrality',\n",
       "       'DER_lep_eta_centrality', 'PRI_tau_pt', 'PRI_tau_eta',\n",
       "       'PRI_tau_phi', 'PRI_lep_pt', 'PRI_lep_eta', 'PRI_lep_phi',\n",
       "       'PRI_met', 'PRI_met_phi', 'PRI_met_sumet', 'PRI_jet_num',\n",
       "       'PRI_jet_leading_pt', 'PRI_jet_leading_eta', 'PRI_jet_leading_phi',\n",
       "       'PRI_jet_subleading_pt', 'PRI_jet_subleading_eta',\n",
       "       'PRI_jet_subleading_phi', 'PRI_jet_all_pt'], dtype='<U27')"
      ]
     },
     "execution_count": 3,
     "metadata": {},
     "output_type": "execute_result"
    }
   ],
   "source": [
    "np.delete(ids,[0,1])"
   ]
  },
  {
   "cell_type": "code",
   "execution_count": 15,
   "id": "28b2c3d6",
   "metadata": {},
   "outputs": [
    {
     "data": {
      "text/plain": [
       "array(['Id', 'Prediction', 'DER_mass_MMC', 'DER_mass_transverse_met_lep',\n",
       "       'DER_mass_vis', 'DER_pt_h', 'DER_deltaeta_jet_jet',\n",
       "       'DER_mass_jet_jet', 'DER_prodeta_jet_jet', 'DER_deltar_tau_lep',\n",
       "       'DER_pt_tot', 'DER_sum_pt', 'DER_pt_ratio_lep_tau',\n",
       "       'DER_met_phi_centrality', 'DER_lep_eta_centrality', 'PRI_tau_pt',\n",
       "       'PRI_tau_eta', 'PRI_tau_phi', 'PRI_lep_pt', 'PRI_lep_eta',\n",
       "       'PRI_lep_phi', 'PRI_met', 'PRI_met_phi', 'PRI_met_sumet',\n",
       "       'PRI_jet_num', 'PRI_jet_leading_pt', 'PRI_jet_leading_eta',\n",
       "       'PRI_jet_leading_phi', 'PRI_jet_subleading_pt',\n",
       "       'PRI_jet_subleading_eta', 'PRI_jet_subleading_phi',\n",
       "       'PRI_jet_all_pt'], dtype='<U27')"
      ]
     },
     "execution_count": 15,
     "metadata": {},
     "output_type": "execute_result"
    }
   ],
   "source": [
    "ids"
   ]
  },
  {
   "cell_type": "code",
   "execution_count": 4,
   "id": "ca746ac5",
   "metadata": {},
   "outputs": [],
   "source": [
    "# Data processing : getting rid of the columns which have \"-999\" values\n",
    "new_X = X.copy()\n",
    "#new_X = np.delete(new_X, np.where(new_X == -999)[1], axis=1)\n",
    "\n",
    "# the variable PRI_jet_num seems quite central, as many other variables depend on it\n",
    "# here the data is separated following this fact\n",
    "PRI_jet_num_0 = new_X[:][new_X[:,22] == 0 ]\n",
    "new_PRI_jet_num_0 = PRI_jet_num_0.copy()\n",
    "new_PRI_jet_num_0 = np.delete(new_PRI_jet_num_0, np.where(new_PRI_jet_num_0 == -999)[1], axis=1)\n",
    "\n",
    "# ids_0 = np.delete(ids, np.where(new_PRI_jet_num == -999)[1], axis = 1)\n",
    "'''\n",
    "PRI_jet_num_1 = new_X[1:][new_X[1:,22] == 1]\n",
    "new_PRI_jet_num_1 = PRI_jet_num_1.copy()\n",
    "new_PRI_jet_num_1 = np.delete(new_PRI_jet_num_1, np.where(new_PRI_jet_num_1 == -999)[1], axis=1)\n",
    "\n",
    "PRI_jet_num_2 = new_X[1:][new_X[1:,22] == 2]\n",
    "new_PRI_jet_num_2 = PRI_jet_num_2.copy()\n",
    "new_PRI_jet_num_2 = np.delete(new_PRI_jet_num_2, np.where(new_PRI_jet_num_2 == -999)[1], axis=1)\n",
    "\n",
    "PRI_jet_num_3 = new_X[1:][new_X[1:,22] == 3]\n",
    "new_PRI_jet_num_3 = PRI_jet_num_3.copy()\n",
    "new_PRI_jet_num_3 = np.delete(new_PRI_jet_num_3, np.where(new_PRI_jet_num_3 == -999)[1], axis=1)'''"
   ]
  },
  {
   "cell_type": "code",
   "execution_count": 9,
   "id": "e58d7a82",
   "metadata": {},
   "outputs": [
    {
     "name": "stdout",
     "output_type": "stream",
     "text": [
      "(99913, 19)\n",
      "(77544, 22)\n",
      "(50378, 29)\n",
      "(22164, 29)\n"
     ]
    },
    {
     "data": {
      "text/plain": [
       "array([[ 81.417,  80.943,   0.414, ...,  86.062,   0.   ,   0.   ],\n",
       "       [ 16.915, 134.805,  16.405, ...,  53.131,   0.   ,   0.   ],\n",
       "       [ 50.559, 100.989,   4.288, ..., 129.804,   0.   ,   0.   ],\n",
       "       ...,\n",
       "       [ 58.179,  68.083,  22.439, ...,  80.408,   0.   ,   0.   ],\n",
       "       [ 19.362,  68.812,  13.504, ..., 112.718,   0.   ,   0.   ],\n",
       "       [ 72.756,  70.831,   7.479, ...,  99.405,   0.   ,   0.   ]])"
      ]
     },
     "execution_count": 9,
     "metadata": {},
     "output_type": "execute_result"
    }
   ],
   "source": [
    "print(new_PRI_jet_num_0.shape)\n",
    "print(new_PRI_jet_num_1.shape)\n",
    "print(new_PRI_jet_num_2.shape)\n",
    "print(new_PRI_jet_num_3.shape)\n",
    "new_PRI_jet_num_0"
   ]
  },
  {
   "cell_type": "code",
   "execution_count": null,
   "id": "d99df20e",
   "metadata": {},
   "outputs": [],
   "source": [
    "wls=imp.least_squares(y,X)\n",
    "ychapo=X.dot(wls[0])\n",
    "for i in range (0,len(ychapo)):\n",
    "    if ychapo[i]>0.5:\n",
    "        ychapo[i]=int(1)\n",
    "    else:\n",
    "         ychapo[i]=int(0)\n",
    "conf.compute_confusion_matrix(y,ychapo)"
   ]
  },
  {
   "cell_type": "code",
   "execution_count": null,
   "id": "5675ec7c",
   "metadata": {},
   "outputs": [],
   "source": [
    "wlsgd=imp.least_square_GD(y,X,np.ones(30),100,0.8)\n",
    "ychap=X.dot(wlsgd[0])\n",
    "for i in range (0,len(ychap)):\n",
    "    if ychap[i]>0.5:\n",
    "        ychap[i]=int(1)\n",
    "    else:\n",
    "         ychap[i]=int(0)\n",
    "conf.compute_confusion_matrix(y,ychap)"
   ]
  },
  {
   "cell_type": "code",
   "execution_count": null,
   "id": "2836b846",
   "metadata": {},
   "outputs": [],
   "source": [
    "wls=imp.least_squares_SGD(y,X,np.ones(30),100,0.3)\n",
    "ychapo=X.dot(wls[0])\n",
    "for i in range (0,len(ychapo)):\n",
    "    if ychapo[i]>0.5:\n",
    "        ychapo[i]=int(1)\n",
    "    else:\n",
    "         ychapo[i]=int(0)\n",
    "conf.compute_confusion_matrix(y,ychapo)"
   ]
  },
  {
   "cell_type": "code",
   "execution_count": null,
   "id": "188a688d",
   "metadata": {},
   "outputs": [],
   "source": [
    "wls=imp.ridge_regression(y,X,0.5)\n",
    "ychapo=X.dot(wls[0])\n",
    "for i in range (0,len(ychapo)):\n",
    "    if ychapo[i]>0.5:\n",
    "        ychapo[i]=int(1)\n",
    "    else:\n",
    "         ychapo[i]=int(0)\n",
    "conf.compute_confusion_matrix(y,ychapo)"
   ]
  },
  {
   "cell_type": "code",
   "execution_count": null,
   "id": "e44ade41",
   "metadata": {},
   "outputs": [],
   "source": [
    "wls=imp.logistic_regression(y,X,np.ones(30),100,0.1)\n",
    "ychapo=X.dot(wls[0])\n",
    "for i in range (0,len(ychapo)):\n",
    "    if ychapo[i]>0.5:\n",
    "        ychapo[i]=int(1)\n",
    "    else:\n",
    "         ychapo[i]=int(0)\n",
    "conf.compute_confusion_matrix(y,ychapo)"
   ]
  },
  {
   "cell_type": "code",
   "execution_count": null,
   "id": "d951d566",
   "metadata": {},
   "outputs": [],
   "source": [
    "wls=imp.reg_logistic_regression(y,X,0.1,np.ones(30),100,0.1)\n",
    "ychapo=X.dot(wls[0])\n",
    "for i in range (0,len(ychapo)):\n",
    "    if ychapo[i]>0.5:\n",
    "        ychapo[i]=int(1)\n",
    "    else:\n",
    "         ychapo[i]=int(0)\n",
    "conf.compute_confusion_matrix(y,ychapo)"
   ]
  },
  {
   "cell_type": "code",
   "execution_count": null,
   "id": "28f465f7",
   "metadata": {},
   "outputs": [],
   "source": [
    "#split the train.csv into a training set and a validation set\n",
    "X_train, X_validate = np.split(X,[int(.5*len(X))])\n",
    "y_train, y_validate = np.split(y,[int(.5*len(y))])"
   ]
  },
  {
   "cell_type": "markdown",
   "id": "0a2fdb4a",
   "metadata": {},
   "source": [
    "for the graph there needs to be no extra modifications to the csv file after it is read"
   ]
  },
  {
   "cell_type": "code",
   "execution_count": null,
   "id": "e6a539df",
   "metadata": {},
   "outputs": [],
   "source": [
    "vecto=[]\n",
    "[vecto.append(random.randrange(1,250000,1)) for i in range (1,1000)]\n",
    "for i in range (2,16):\n",
    "    plt.figure(i)\n",
    "    plt.scatter(train[vecto,i],train[vecto,1])"
   ]
  },
  {
   "cell_type": "code",
   "execution_count": null,
   "id": "ee3a763b",
   "metadata": {},
   "outputs": [],
   "source": [
    "vecto=[]\n",
    "[vecto.append(random.randrange(250000)) for i in range (1,1000)]\n",
    "for i in range (17,32):\n",
    "    plt.figure(i)\n",
    "    plt.scatter(train[vecto,i],train[vecto,1])"
   ]
  },
  {
   "cell_type": "code",
   "execution_count": null,
   "id": "e979f9fb",
   "metadata": {},
   "outputs": [],
   "source": [
    "trainb=[]\n",
    "trains=[]\n",
    "for i in train[1:250000,:]:\n",
    "    if i[1]==\"b\":\n",
    "        trainb.append(i)\n",
    "    else:\n",
    "        trains.append(i)\n",
    "trains=np.asarray(trains)\n",
    "trainb=np.asarray(trainb)"
   ]
  },
  {
   "cell_type": "code",
   "execution_count": null,
   "id": "2ab7ffda",
   "metadata": {},
   "outputs": [],
   "source": [
    "vecto=[]\n",
    "vect=[]\n",
    "[vecto.append(random.randrange(len(trainb))) for i in range (1,500)]\n",
    "[vect.append(random.randrange(len(trains))) for i in range (1,500)]\n",
    "print(len(vect),len(trains))\n",
    "for i in range (2,5):\n",
    "    for j in range (2,5):\n",
    "        plt.figure(i+j)\n",
    "        plt.subplot(1, 2, 1)\n",
    "        plt.scatter(trainb[vecto,i],trainb[vecto,j],color='blue')\n",
    "        plt.subplot(1, 2, 2)\n",
    "        plt.scatter(trains[vect,i],trains[vect,j],color='red')"
   ]
  }
 ],
 "metadata": {
  "interpreter": {
   "hash": "8ff1774c64d83fce3825259fa3771bbe70271854497325f5fa1e2c1b92279703"
  },
  "kernelspec": {
   "display_name": "Python 3",
   "language": "python",
   "name": "python3"
  },
  "language_info": {
   "codemirror_mode": {
    "name": "ipython",
    "version": 3
   },
   "file_extension": ".py",
   "mimetype": "text/x-python",
   "name": "python",
   "nbconvert_exporter": "python",
   "pygments_lexer": "ipython3",
   "version": "3.8.8"
  }
 },
 "nbformat": 4,
 "nbformat_minor": 5
}

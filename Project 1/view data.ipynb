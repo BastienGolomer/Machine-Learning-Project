{
 "cells": [
  {
   "cell_type": "code",
   "execution_count": 3,
   "id": "a309f408",
   "metadata": {},
   "outputs": [],
   "source": [
    "import numpy as np\n",
    "import csv\n",
    "import matplotlib.pyplot as plt\n",
    "import random\n",
    "import loading as ld\n",
    "import implementations as imp\n",
    "import confusion_matrix as conf"
   ]
  },
  {
   "cell_type": "code",
   "execution_count": null,
   "id": "a0b4574c",
   "metadata": {},
   "outputs": [],
   "source": [
    "# load the data using our own method\n",
<<<<<<< HEAD
    "y, X, ids = ld.load_csv_data('train.csv')\n",
    "ytest, Xtest, idstest = ld.load_csv_data('test.csv')"
=======
    "y, X, _ = ld.load_csv_data('train.csv')"
>>>>>>> daab086c958cbe201295992ad5abf33276c326b5
   ]
  },
  {
   "cell_type": "code",
<<<<<<< HEAD
   "execution_count": null,
   "id": "200ff600",
   "metadata": {},
   "outputs": [],
   "source": [
    "np.delete(ids,[0,1])\n",
    "np.delete(idstest,[0,1])"
=======
   "execution_count": 6,
   "id": "36ca0e3a",
   "metadata": {},
   "outputs": [
    {
     "data": {
      "text/plain": [
       "array([[ 1.00000e+05,  1.38470e+02,  5.16550e+01, ...,  1.24000e+00,\n",
       "        -2.47500e+00,  1.13497e+02],\n",
       "       [ 1.00001e+05,  1.60937e+02,  6.87680e+01, ..., -9.99000e+02,\n",
       "        -9.99000e+02,  4.62260e+01],\n",
       "       [ 1.00002e+05, -9.99000e+02,  1.62172e+02, ..., -9.99000e+02,\n",
       "        -9.99000e+02,  4.42510e+01],\n",
       "       ...,\n",
       "       [ 3.49997e+05,  1.05457e+02,  6.05260e+01, ..., -9.99000e+02,\n",
       "        -9.99000e+02,  4.19920e+01],\n",
       "       [ 3.49998e+05,  9.49510e+01,  1.93620e+01, ..., -9.99000e+02,\n",
       "        -9.99000e+02,  0.00000e+00],\n",
       "       [ 3.49999e+05, -9.99000e+02,  7.27560e+01, ..., -9.99000e+02,\n",
       "        -9.99000e+02,  0.00000e+00]])"
      ]
     },
     "execution_count": 6,
     "metadata": {},
     "output_type": "execute_result"
    }
   ],
   "source": [
    "X"
>>>>>>> daab086c958cbe201295992ad5abf33276c326b5
   ]
  },
  {
   "cell_type": "code",
   "execution_count": null,
   "id": "78a08c23",
   "metadata": {},
   "outputs": [],
   "source": [
    "#split the train.csv into a training set and a validation set\n",
    "X_train, X_validate = np.split(X,[int(.5*len(X))])\n",
    "y_train, y_validate = np.split(y,[int(.5*len(y))])"
   ]
  },
  {
   "cell_type": "code",
<<<<<<< HEAD
   "execution_count": null,
   "id": "ca746ac5",
   "metadata": {
    "scrolled": true
   },
   "outputs": [],
   "source": [
    "# Data processing : getting rid of the columns which have \"-999\" values\n",
    "\"\"\"new_X = X.copy()\n",
    "new_X = np.delete(new_X, np.where(new_X == -999)[1], axis=1)\n",
    "new_Xtest = Xtest.copy()\n",
    "new_Xtest = np.delete(new_Xtest, np.where(new_Xtest == -999)[1], axis=1)\n",
    "\"\"\"\n",
    "# the variable PRI_jet_num seems quite central, as many other variables depend on it\n",
    "# here the data is separated following this fact\n",
    "def split(new_X,y):\n",
    "    print(new_X.shape, y.shape)\n",
    "    np.append(new_X,y, axis=1)\n",
    "    \n",
    "    PRI_jet_num_0 = new_X[:][new_X[:,22] == 0 ]\n",
    "    new_PRI_jet_num_0 = PRI_jet_num_0.copy()\n",
    "    new_PRI_jet_num_0 = np.delete(new_PRI_jet_num_0, np.where(new_PRI_jet_num_0 == -999)[1], axis=1)\n",
    "    PRI_jet_num_1 = new_X[1:][new_X[1:,22] == 1]\n",
    "    new_PRI_jet_num_1 = PRI_jet_num_1.copy()\n",
    "    new_PRI_jet_num_1 = np.delete(new_PRI_jet_num_1, np.where(new_PRI_jet_num_1 == -999)[1], axis=1)\n",
    "    PRI_jet_num_2 = new_X[1:][new_X[1:,22] == 2]\n",
    "    new_PRI_jet_num_2 = PRI_jet_num_2.copy()\n",
    "    new_PRI_jet_num_2 = np.delete(new_PRI_jet_num_2, np.where(new_PRI_jet_num_2 == -999)[1], axis=1)\n",
    "    PRI_jet_num_3 = new_X[1:][new_X[1:,22] == 3]\n",
    "    new_PRI_jet_num_3 = PRI_jet_num_3.copy()\n",
    "    new_PRI_jet_num_3 = np.delete(new_PRI_jet_num_3, np.where(new_PRI_jet_num_3 == -999)[1], axis=1)\n",
    "    return [[new_PRI_jet_num_0[:,-1], new_PRI_jet_num_0[:,:-1]],[new_PRI_jet_num_1[:,-1], new_PRI_jet_num_1[:,0:-1]], [new_PRI_jet_num_2[:,-1], new_PRI_jet_num_2[:,0:-1]],[new_PRI_jet_num_3[:,-1], new_PRI_jet_num_3[:,0:-1]]]"
   ]
  },
  {
   "cell_type": "code",
   "execution_count": null,
   "id": "23621e32",
   "metadata": {},
   "outputs": [],
   "source": [
    "split_trained=split(X_train,y_train)\n",
    "split_validate=split(X_validate,y_validate)\n",
    "split_test=split(X_validate,y_validate)"
   ]
  },
  {
   "cell_type": "code",
   "execution_count": 73,
   "id": "078b8fa8",
=======
   "execution_count": 15,
<<<<<<< HEAD
   "id": "28b2c3d6",
>>>>>>> 7a8173a9eb38b6fed197b952b7091e01d01c440e
   "metadata": {},
   "outputs": [
    {
     "data": {
      "text/plain": [
<<<<<<< HEAD
       "array([[145.971,  96.221,  10.083, ...,   0.726, 277.523,   0.   ],\n",
       "       [ 64.524,  74.506,   2.035, ...,   1.291,  95.305,   0.   ],\n",
       "       [ 15.364,  95.406,  28.201, ...,  -1.154, 140.214,   0.   ],\n",
       "       ...,\n",
       "       [ 58.179,  68.083,  22.439, ...,  -0.867,  80.408,   0.   ],\n",
       "       [ 19.362,  68.812,  13.504, ...,   0.811, 112.718,   0.   ],\n",
       "       [ 72.756,  70.831,   7.479, ...,  -1.596,  99.405,   0.   ]])"
      ]
     },
     "execution_count": 73,
=======
       "array(['Id', 'Prediction', 'DER_mass_MMC', 'DER_mass_transverse_met_lep',\n",
       "       'DER_mass_vis', 'DER_pt_h', 'DER_deltaeta_jet_jet',\n",
       "       'DER_mass_jet_jet', 'DER_prodeta_jet_jet', 'DER_deltar_tau_lep',\n",
       "       'DER_pt_tot', 'DER_sum_pt', 'DER_pt_ratio_lep_tau',\n",
       "       'DER_met_phi_centrality', 'DER_lep_eta_centrality', 'PRI_tau_pt',\n",
       "       'PRI_tau_eta', 'PRI_tau_phi', 'PRI_lep_pt', 'PRI_lep_eta',\n",
       "       'PRI_lep_phi', 'PRI_met', 'PRI_met_phi', 'PRI_met_sumet',\n",
       "       'PRI_jet_num', 'PRI_jet_leading_pt', 'PRI_jet_leading_eta',\n",
       "       'PRI_jet_leading_phi', 'PRI_jet_subleading_pt',\n",
       "       'PRI_jet_subleading_eta', 'PRI_jet_subleading_phi',\n",
       "       'PRI_jet_all_pt'], dtype='<U27')"
      ]
     },
     "execution_count": 15,
>>>>>>> 7a8173a9eb38b6fed197b952b7091e01d01c440e
     "metadata": {},
     "output_type": "execute_result"
    }
   ],
   "source": [
<<<<<<< HEAD
    "split_validate[0][1]"
=======
    "ids"
   ]
  },
  {
   "cell_type": "code",
   "execution_count": 4,
=======
>>>>>>> daab086c958cbe201295992ad5abf33276c326b5
   "id": "ca746ac5",
   "metadata": {},
   "outputs": [],
   "source": [
    "# Data processing : getting rid of the columns which have \"-999\" values\n",
    "new_X = X.copy()\n",
    "#new_X = np.delete(new_X, np.where(new_X == -999)[1], axis=1)\n",
    "\n",
    "# the variable PRI_jet_num seems quite central, as many other variables depend on it\n",
    "# here the data is separated following this fact\n",
    "PRI_jet_num_0 = new_X[:][new_X[:,23] == 0]\n",
    "new_PRI_jet_num_0 = PRI_jet_num_0.copy()\n",
    "new_PRI_jet_num_0 = np.delete(new_PRI_jet_num_0, np.where(new_PRI_jet_num_0 == -999)[1], axis=1)\n",
    "\n",
    "PRI_jet_num_1 = new_X[1:][new_X[1:,23] == 1]\n",
    "new_PRI_jet_num_1 = PRI_jet_num_1.copy()\n",
    "new_PRI_jet_num_1 = np.delete(new_PRI_jet_num_1, np.where(new_PRI_jet_num_1 == -999)[1], axis=1)\n",
    "\n",
    "PRI_jet_num_2 = new_X[1:][new_X[1:,23] == 2]\n",
    "new_PRI_jet_num_2 = PRI_jet_num_2.copy()\n",
    "new_PRI_jet_num_2 = np.delete(new_PRI_jet_num_2, np.where(new_PRI_jet_num_2 == -999)[1], axis=1)\n",
    "\n",
    "PRI_jet_num_3 = new_X[1:][new_X[1:,23] == 3]\n",
    "new_PRI_jet_num_3 = PRI_jet_num_3.copy()\n",
<<<<<<< HEAD
    "new_PRI_jet_num_3 = np.delete(new_PRI_jet_num_3, np.where(new_PRI_jet_num_3 == -999)[1], axis=1)'''"
>>>>>>> 7a8173a9eb38b6fed197b952b7091e01d01c440e
=======
    "new_PRI_jet_num_3 = np.delete(new_PRI_jet_num_3, np.where(new_PRI_jet_num_3 == -999)[1], axis=1)"
>>>>>>> daab086c958cbe201295992ad5abf33276c326b5
   ]
  },
  {
   "cell_type": "code",
<<<<<<< HEAD
<<<<<<< HEAD
   "execution_count": 13,
   "id": "93068a7e",
=======
   "execution_count": 9,
=======
   "execution_count": 16,
>>>>>>> daab086c958cbe201295992ad5abf33276c326b5
   "id": "e58d7a82",
>>>>>>> 7a8173a9eb38b6fed197b952b7091e01d01c440e
   "metadata": {},
   "outputs": [
    {
     "name": "stdout",
     "output_type": "stream",
     "text": [
<<<<<<< HEAD
<<<<<<< HEAD
      "(568238,)\n"
     ]
    },
    {
     "ename": "IndexError",
     "evalue": "index 1 is out of bounds for axis 0 with size 1",
     "output_type": "error",
     "traceback": [
      "\u001b[0;31m---------------------------------------------------------------------------\u001b[0m",
      "\u001b[0;31mIndexError\u001b[0m                                Traceback (most recent call last)",
      "\u001b[0;32m<ipython-input-13-93bfec8fd800>\u001b[0m in \u001b[0;36m<module>\u001b[0;34m\u001b[0m\n\u001b[1;32m      7\u001b[0m     \u001b[0;32melse\u001b[0m\u001b[0;34m:\u001b[0m\u001b[0;34m\u001b[0m\u001b[0;34m\u001b[0m\u001b[0m\n\u001b[1;32m      8\u001b[0m          \u001b[0mychapo\u001b[0m\u001b[0;34m[\u001b[0m\u001b[0mi\u001b[0m\u001b[0;34m]\u001b[0m\u001b[0;34m=\u001b[0m\u001b[0mint\u001b[0m\u001b[0;34m(\u001b[0m\u001b[0;36m0\u001b[0m\u001b[0;34m)\u001b[0m\u001b[0;34m\u001b[0m\u001b[0;34m\u001b[0m\u001b[0m\n\u001b[0;32m----> 9\u001b[0;31m \u001b[0mconf\u001b[0m\u001b[0;34m.\u001b[0m\u001b[0mcompute_confusion_matrix\u001b[0m\u001b[0;34m(\u001b[0m\u001b[0mytest\u001b[0m\u001b[0;34m,\u001b[0m\u001b[0mychapo\u001b[0m\u001b[0;34m)\u001b[0m\u001b[0;34m\u001b[0m\u001b[0;34m\u001b[0m\u001b[0m\n\u001b[0m",
      "\u001b[0;32m~/Documents/EPFL/Master/MA1/ML_course/Machine-Learning-Project/Project 1/confusion_matrix.py\u001b[0m in \u001b[0;36mcompute_confusion_matrix\u001b[0;34m(true, pred)\u001b[0m\n\u001b[1;32m      9\u001b[0m \u001b[0;34m\u001b[0m\u001b[0m\n\u001b[1;32m     10\u001b[0m   \u001b[0;32mfor\u001b[0m \u001b[0mi\u001b[0m \u001b[0;32min\u001b[0m \u001b[0mrange\u001b[0m\u001b[0;34m(\u001b[0m\u001b[0mlen\u001b[0m\u001b[0;34m(\u001b[0m\u001b[0mtrue\u001b[0m\u001b[0;34m)\u001b[0m\u001b[0;34m)\u001b[0m\u001b[0;34m:\u001b[0m\u001b[0;34m\u001b[0m\u001b[0;34m\u001b[0m\u001b[0m\n\u001b[0;32m---> 11\u001b[0;31m     \u001b[0mresult\u001b[0m\u001b[0;34m[\u001b[0m\u001b[0mint\u001b[0m\u001b[0;34m(\u001b[0m\u001b[0mtrue\u001b[0m\u001b[0;34m[\u001b[0m\u001b[0mi\u001b[0m\u001b[0;34m]\u001b[0m\u001b[0;34m)\u001b[0m\u001b[0;34m]\u001b[0m\u001b[0;34m[\u001b[0m\u001b[0mint\u001b[0m\u001b[0;34m(\u001b[0m\u001b[0mpred\u001b[0m\u001b[0;34m[\u001b[0m\u001b[0mi\u001b[0m\u001b[0;34m]\u001b[0m\u001b[0;34m)\u001b[0m\u001b[0;34m]\u001b[0m \u001b[0;34m+=\u001b[0m \u001b[0;36m1\u001b[0m\u001b[0;34m\u001b[0m\u001b[0;34m\u001b[0m\u001b[0m\n\u001b[0m\u001b[1;32m     12\u001b[0m \u001b[0;34m\u001b[0m\u001b[0m\n\u001b[1;32m     13\u001b[0m   \u001b[0;32mreturn\u001b[0m \u001b[0mresult\u001b[0m\u001b[0;34m\u001b[0m\u001b[0;34m\u001b[0m\u001b[0m\n",
      "\u001b[0;31mIndexError\u001b[0m: index 1 is out of bounds for axis 0 with size 1"
     ]
=======
      "(99913, 19)\n",
      "(77544, 22)\n",
      "(50378, 29)\n",
      "(22164, 29)\n"
=======
      "(99913, 20)\n",
      "(77544, 23)\n",
      "(50378, 30)\n",
      "(22164, 30)\n"
>>>>>>> daab086c958cbe201295992ad5abf33276c326b5
     ]
    },
    {
     "data": {
      "text/plain": [
       "array([[1.00003e+05, 8.14170e+01, 8.09430e+01, ..., 8.60620e+01,\n",
       "        0.00000e+00, 0.00000e+00],\n",
       "       [1.00004e+05, 1.69150e+01, 1.34805e+02, ..., 5.31310e+01,\n",
       "        0.00000e+00, 0.00000e+00],\n",
       "       [1.00008e+05, 5.05590e+01, 1.00989e+02, ..., 1.29804e+02,\n",
       "        0.00000e+00, 0.00000e+00],\n",
       "       ...,\n",
       "       [3.49996e+05, 5.81790e+01, 6.80830e+01, ..., 8.04080e+01,\n",
       "        0.00000e+00, 0.00000e+00],\n",
       "       [3.49998e+05, 1.93620e+01, 6.88120e+01, ..., 1.12718e+02,\n",
       "        0.00000e+00, 0.00000e+00],\n",
       "       [3.49999e+05, 7.27560e+01, 7.08310e+01, ..., 9.94050e+01,\n",
       "        0.00000e+00, 0.00000e+00]])"
      ]
     },
     "execution_count": 16,
     "metadata": {},
     "output_type": "execute_result"
>>>>>>> 7a8173a9eb38b6fed197b952b7091e01d01c440e
    }
   ],
   "source": [
    "print(new_PRI_jet_num_0.shape)\n",
    "print(new_PRI_jet_num_1.shape)\n",
    "print(new_PRI_jet_num_2.shape)\n",
    "print(new_PRI_jet_num_3.shape)\n",
    "new_PRI_jet_num_0"
   ]
  },
  {
   "cell_type": "code",
   "execution_count": null,
   "id": "d99df20e",
   "metadata": {},
   "outputs": [],
   "source": [
    "wls=imp.least_squares(y,X)\n",
    "ychapo=Xtest.dot(wls[0])\n",
    "print (ychapo.shape)\n",
    "for i in range (0,len(ychapo)):\n",
    "    if ychapo[i]>0.5:\n",
    "        ychapo[i]=int(1)\n",
    "    else:\n",
    "         ychapo[i]=int(0)\n",
    "conf.compute_confusion_matrix(ytest,ychapo)"
   ]
  },
  {
   "cell_type": "code",
   "execution_count": null,
   "id": "5675ec7c",
   "metadata": {},
   "outputs": [],
   "source": [
    "wlsgd=imp.least_square_GD(y,X,np.ones(30),100,0.8)\n",
    "ychap=Xtest.dot(wlsgd[0])\n",
    "for i in range (0,len(ychap)):\n",
    "    if ychap[i]>0.5:\n",
    "        ychap[i]=int(1)\n",
    "    else:\n",
    "         ychap[i]=int(0)\n",
    "conf.compute_confusion_matrix(ytest,ychap)"
   ]
  },
  {
   "cell_type": "code",
   "execution_count": null,
   "id": "2836b846",
   "metadata": {},
   "outputs": [],
   "source": [
    "wls=imp.least_squares_SGD(y,X,np.ones(30),100,0.3)\n",
    "ychapo=Xtest.dot(wls[0])\n",
    "for i in range (0,len(ychapo)):\n",
    "    if ychapo[i]>0.5:\n",
    "        ychapo[i]=int(1)\n",
    "    else:\n",
    "         ychapo[i]=int(0)\n",
    "conf.compute_confusion_matrix(ytest,ychapo)"
   ]
  },
  {
   "cell_type": "code",
   "execution_count": null,
   "id": "188a688d",
   "metadata": {},
<<<<<<< HEAD
   "outputs": [
    {
     "data": {
      "text/plain": [
       "array([[131482.,  32851.],\n",
       "       [ 68846.,  16821.]])"
      ]
     },
     "execution_count": 8,
     "metadata": {},
     "output_type": "execute_result"
    }
   ],
=======
   "outputs": [],
>>>>>>> 7a8173a9eb38b6fed197b952b7091e01d01c440e
   "source": [
    "wls=imp.ridge_regression(y,X,0.5)\n",
    "ychapo=Xtest.dot(wls[0])\n",
    "for i in range (0,len(ychapo)):\n",
    "    if ychapo[i]>0.5:\n",
    "        ychapo[i]=int(1)\n",
    "    else:\n",
    "         ychapo[i]=int(0)\n",
    "conf.compute_confusion_matrix(ytest,ychapo)"
   ]
  },
  {
   "cell_type": "code",
   "execution_count": null,
   "id": "e44ade41",
   "metadata": {},
   "outputs": [],
   "source": [
    "wls=imp.logistic_regression(y,X,np.ones(30),100,0.1)\n",
    "ychapo=Xtest.dot(wls[0])\n",
    "for i in range (0,len(ychapo)):\n",
    "    if ychapo[i]>0.5:\n",
    "        ychapo[i]=int(1)\n",
    "    else:\n",
    "         ychapo[i]=int(0)\n",
    "conf.compute_confusion_matrix(ytest,ychapo)"
   ]
  },
  {
   "cell_type": "code",
<<<<<<< HEAD
   "execution_count": 9,
   "id": "d951d566",
   "metadata": {},
   "outputs": [
    {
     "name": "stderr",
     "output_type": "stream",
     "text": [
      "/home/bastienll/Documents/EPFL/Master/MA1/ML_course/Machine-Learning-Project/Project 1/loss_functions.py:5: RuntimeWarning: overflow encountered in exp\n",
      "  return 1/(1 + np.exp(-x))\n",
      "/home/bastienll/Documents/EPFL/Master/MA1/ML_course/Machine-Learning-Project/Project 1/loss_functions.py:25: RuntimeWarning: divide by zero encountered in log\n",
      "  return np.sum(y * np.log(sigmoid(tx.dot(w))) + (1 - y) * np.log(1 - sigmoid(tx.dot(w))))/len(y)\n",
      "/home/bastienll/Documents/EPFL/Master/MA1/ML_course/Machine-Learning-Project/Project 1/loss_functions.py:25: RuntimeWarning: invalid value encountered in multiply\n",
      "  return np.sum(y * np.log(sigmoid(tx.dot(w))) + (1 - y) * np.log(1 - sigmoid(tx.dot(w))))/len(y)\n"
     ]
    },
    {
     "data": {
      "text/plain": [
       "array([[128566.,  35767.],\n",
       "       [ 67158.,  18509.]])"
      ]
     },
     "execution_count": 9,
     "metadata": {},
     "output_type": "execute_result"
    }
   ],
=======
   "execution_count": null,
   "id": "d951d566",
   "metadata": {},
   "outputs": [],
>>>>>>> 7a8173a9eb38b6fed197b952b7091e01d01c440e
   "source": [
    "wls=imp.reg_logistic_regression(y,X,0.1,np.ones(30),100,0.1)\n",
    "ychapo=Xtest.dot(wls[0])\n",
    "for i in range (0,len(ychapo)):\n",
    "    if ychapo[i]>0.5:\n",
    "        ychapo[i]=int(1)\n",
    "    else:\n",
    "         ychapo[i]=int(0)\n",
    "conf.compute_confusion_matrix(ytest,ychapo)"
   ]
  },
  {
   "cell_type": "markdown",
   "id": "0a2fdb4a",
   "metadata": {},
   "source": [
    "for the graph there needs to be no extra modifications to the csv file after it is read"
   ]
  },
  {
   "cell_type": "code",
   "execution_count": null,
   "id": "e6a539df",
   "metadata": {},
   "outputs": [],
   "source": [
    "vecto=[]\n",
    "[vecto.append(random.randrange(1,250000,1)) for i in range (1,1000)]\n",
    "for i in range (2,16):\n",
    "    plt.figure(i)\n",
    "    plt.scatter(train[vecto,i],train[vecto,1])"
   ]
  },
  {
   "cell_type": "code",
   "execution_count": null,
   "id": "ee3a763b",
   "metadata": {},
   "outputs": [],
   "source": [
    "vecto=[]\n",
    "[vecto.append(random.randrange(250000)) for i in range (1,1000)]\n",
    "for i in range (17,32):\n",
    "    plt.figure(i)\n",
    "    plt.scatter(train[vecto,i],train[vecto,1])"
   ]
  },
  {
   "cell_type": "code",
   "execution_count": null,
   "id": "e979f9fb",
   "metadata": {},
   "outputs": [],
   "source": [
    "trainb=[]\n",
    "trains=[]\n",
    "for i in train[1:250000,:]:\n",
    "    if i[1]==\"b\":\n",
    "        trainb.append(i)\n",
    "    else:\n",
    "        trains.append(i)\n",
    "trains=np.asarray(trains)\n",
    "trainb=np.asarray(trainb)"
   ]
  },
  {
   "cell_type": "code",
   "execution_count": null,
   "id": "2ab7ffda",
   "metadata": {},
   "outputs": [],
   "source": [
    "vecto=[]\n",
    "vect=[]\n",
    "[vecto.append(random.randrange(len(trainb))) for i in range (1,500)]\n",
    "[vect.append(random.randrange(len(trains))) for i in range (1,500)]\n",
    "print(len(vect),len(trains))\n",
    "for i in range (2,5):\n",
    "    for j in range (2,5):\n",
    "        plt.figure(i+j)\n",
    "        plt.subplot(1, 2, 1)\n",
    "        plt.scatter(trainb[vecto,i],trainb[vecto,j],color='blue')\n",
    "        plt.subplot(1, 2, 2)\n",
    "        plt.scatter(trains[vect,i],trains[vect,j],color='red')"
   ]
  }
 ],
 "metadata": {
  "interpreter": {
   "hash": "8ff1774c64d83fce3825259fa3771bbe70271854497325f5fa1e2c1b92279703"
  },
  "kernelspec": {
   "display_name": "Python 3",
   "language": "python",
   "name": "python3"
  },
  "language_info": {
   "codemirror_mode": {
    "name": "ipython",
    "version": 3
   },
   "file_extension": ".py",
   "mimetype": "text/x-python",
   "name": "python",
   "nbconvert_exporter": "python",
   "pygments_lexer": "ipython3",
   "version": "3.8.8"
  }
 },
 "nbformat": 4,
 "nbformat_minor": 5
}

{
 "cells": [
  {
   "cell_type": "code",
   "execution_count": 1,
   "id": "a309f408",
   "metadata": {},
   "outputs": [],
   "source": [
    "import numpy as np\n",
    "import csv\n",
    "import matplotlib.pyplot as plt\n",
    "import random\n",
    "import loading as ld\n",
    "import implementations as imp\n",
    "import confusion_matrix as conf"
   ]
  },
  {
   "cell_type": "code",
   "execution_count": 2,
   "id": "a0b4574c",
   "metadata": {},
   "outputs": [],
   "source": [
    "# load the data using our own method\n",
    "y, X, _ = ld.load_csv_data('train.csv')"
   ]
  },
  {
   "cell_type": "code",
   "execution_count": 6,
   "id": "36ca0e3a",
   "metadata": {},
   "outputs": [
    {
     "data": {
      "text/plain": [
       "array([[ 1.00000e+05,  1.38470e+02,  5.16550e+01, ...,  1.24000e+00,\n",
       "        -2.47500e+00,  1.13497e+02],\n",
       "       [ 1.00001e+05,  1.60937e+02,  6.87680e+01, ..., -9.99000e+02,\n",
       "        -9.99000e+02,  4.62260e+01],\n",
       "       [ 1.00002e+05, -9.99000e+02,  1.62172e+02, ..., -9.99000e+02,\n",
       "        -9.99000e+02,  4.42510e+01],\n",
       "       ...,\n",
       "       [ 3.49997e+05,  1.05457e+02,  6.05260e+01, ..., -9.99000e+02,\n",
       "        -9.99000e+02,  4.19920e+01],\n",
       "       [ 3.49998e+05,  9.49510e+01,  1.93620e+01, ..., -9.99000e+02,\n",
       "        -9.99000e+02,  0.00000e+00],\n",
       "       [ 3.49999e+05, -9.99000e+02,  7.27560e+01, ..., -9.99000e+02,\n",
       "        -9.99000e+02,  0.00000e+00]])"
      ]
     },
     "execution_count": 6,
     "metadata": {},
     "output_type": "execute_result"
    }
   ],
   "source": [
    "X"
   ]
  },
  {
   "cell_type": "code",
   "execution_count": 15,
   "id": "ca746ac5",
   "metadata": {},
   "outputs": [],
   "source": [
    "# Data processing : getting rid of the columns which have \"-999\" values\n",
    "new_X = X.copy()\n",
    "#new_X = np.delete(new_X, np.where(new_X == -999)[1], axis=1)\n",
    "\n",
    "# the variable PRI_jet_num seems quite central, as many other variables depend on it\n",
    "# here the data is separated following this fact\n",
    "PRI_jet_num_0 = new_X[:][new_X[:,23] == 0]\n",
    "new_PRI_jet_num_0 = PRI_jet_num_0.copy()\n",
    "new_PRI_jet_num_0 = np.delete(new_PRI_jet_num_0, np.where(new_PRI_jet_num_0 == -999)[1], axis=1)\n",
    "\n",
    "PRI_jet_num_1 = new_X[1:][new_X[1:,23] == 1]\n",
    "new_PRI_jet_num_1 = PRI_jet_num_1.copy()\n",
    "new_PRI_jet_num_1 = np.delete(new_PRI_jet_num_1, np.where(new_PRI_jet_num_1 == -999)[1], axis=1)\n",
    "\n",
    "PRI_jet_num_2 = new_X[1:][new_X[1:,23] == 2]\n",
    "new_PRI_jet_num_2 = PRI_jet_num_2.copy()\n",
    "new_PRI_jet_num_2 = np.delete(new_PRI_jet_num_2, np.where(new_PRI_jet_num_2 == -999)[1], axis=1)\n",
    "\n",
    "PRI_jet_num_3 = new_X[1:][new_X[1:,23] == 3]\n",
    "new_PRI_jet_num_3 = PRI_jet_num_3.copy()\n",
    "new_PRI_jet_num_3 = np.delete(new_PRI_jet_num_3, np.where(new_PRI_jet_num_3 == -999)[1], axis=1)"
   ]
  },
  {
   "cell_type": "code",
   "execution_count": 16,
   "id": "e58d7a82",
   "metadata": {},
   "outputs": [
    {
     "name": "stdout",
     "output_type": "stream",
     "text": [
      "(99913, 20)\n",
      "(77544, 23)\n",
      "(50378, 30)\n",
      "(22164, 30)\n"
     ]
    },
    {
     "data": {
      "text/plain": [
       "array([[1.00003e+05, 8.14170e+01, 8.09430e+01, ..., 8.60620e+01,\n",
       "        0.00000e+00, 0.00000e+00],\n",
       "       [1.00004e+05, 1.69150e+01, 1.34805e+02, ..., 5.31310e+01,\n",
       "        0.00000e+00, 0.00000e+00],\n",
       "       [1.00008e+05, 5.05590e+01, 1.00989e+02, ..., 1.29804e+02,\n",
       "        0.00000e+00, 0.00000e+00],\n",
       "       ...,\n",
       "       [3.49996e+05, 5.81790e+01, 6.80830e+01, ..., 8.04080e+01,\n",
       "        0.00000e+00, 0.00000e+00],\n",
       "       [3.49998e+05, 1.93620e+01, 6.88120e+01, ..., 1.12718e+02,\n",
       "        0.00000e+00, 0.00000e+00],\n",
       "       [3.49999e+05, 7.27560e+01, 7.08310e+01, ..., 9.94050e+01,\n",
       "        0.00000e+00, 0.00000e+00]])"
      ]
     },
     "execution_count": 16,
     "metadata": {},
     "output_type": "execute_result"
    }
   ],
   "source": [
    "print(new_PRI_jet_num_0.shape)\n",
    "print(new_PRI_jet_num_1.shape)\n",
    "print(new_PRI_jet_num_2.shape)\n",
    "print(new_PRI_jet_num_3.shape)\n",
    "new_PRI_jet_num_0"
   ]
  },
  {
   "cell_type": "code",
   "execution_count": null,
   "id": "d99df20e",
   "metadata": {},
   "outputs": [],
   "source": [
    "wls=imp.least_squares(y,X)\n",
    "ychapo=X.dot(wls[0])\n",
    "for i in range (0,len(ychapo)):\n",
    "    if ychapo[i]>0.5:\n",
    "        ychapo[i]=int(1)\n",
    "    else:\n",
    "         ychapo[i]=int(0)\n",
    "conf.compute_confusion_matrix(y,ychapo)"
   ]
  },
  {
   "cell_type": "code",
   "execution_count": null,
   "id": "5675ec7c",
   "metadata": {},
   "outputs": [],
   "source": [
    "wlsgd=imp.least_square_GD(y,X,np.ones(30),100,0.8)\n",
    "ychap=X.dot(wlsgd[0])\n",
    "for i in range (0,len(ychap)):\n",
    "    if ychap[i]>0.5:\n",
    "        ychap[i]=int(1)\n",
    "    else:\n",
    "         ychap[i]=int(0)\n",
    "conf.compute_confusion_matrix(y,ychap)"
   ]
  },
  {
   "cell_type": "code",
   "execution_count": null,
   "id": "2836b846",
   "metadata": {},
   "outputs": [],
   "source": [
    "wls=imp.least_squares_SGD(y,X,np.ones(30),100,0.3)\n",
    "ychapo=X.dot(wls[0])\n",
    "for i in range (0,len(ychapo)):\n",
    "    if ychapo[i]>0.5:\n",
    "        ychapo[i]=int(1)\n",
    "    else:\n",
    "         ychapo[i]=int(0)\n",
    "conf.compute_confusion_matrix(y,ychapo)"
   ]
  },
  {
   "cell_type": "code",
   "execution_count": null,
   "id": "188a688d",
   "metadata": {},
   "outputs": [],
   "source": [
    "wls=imp.ridge_regression(y,X,0.5)\n",
    "ychapo=X.dot(wls[0])\n",
    "for i in range (0,len(ychapo)):\n",
    "    if ychapo[i]>0.5:\n",
    "        ychapo[i]=int(1)\n",
    "    else:\n",
    "         ychapo[i]=int(0)\n",
    "conf.compute_confusion_matrix(y,ychapo)"
   ]
  },
  {
   "cell_type": "code",
   "execution_count": null,
   "id": "e44ade41",
   "metadata": {},
   "outputs": [],
   "source": [
    "wls=imp.logistic_regression(y,X,np.ones(30),100,0.1)\n",
    "ychapo=X.dot(wls[0])\n",
    "for i in range (0,len(ychapo)):\n",
    "    if ychapo[i]>0.5:\n",
    "        ychapo[i]=int(1)\n",
    "    else:\n",
    "         ychapo[i]=int(0)\n",
    "conf.compute_confusion_matrix(y,ychapo)"
   ]
  },
  {
   "cell_type": "code",
   "execution_count": null,
   "id": "d951d566",
   "metadata": {},
   "outputs": [],
   "source": [
    "wls=imp.reg_logistic_regression(y,X,0.1,np.ones(30),100,0.1)\n",
    "ychapo=X.dot(wls[0])\n",
    "for i in range (0,len(ychapo)):\n",
    "    if ychapo[i]>0.5:\n",
    "        ychapo[i]=int(1)\n",
    "    else:\n",
    "         ychapo[i]=int(0)\n",
    "conf.compute_confusion_matrix(y,ychapo)"
   ]
  },
  {
   "cell_type": "code",
   "execution_count": null,
   "id": "28f465f7",
   "metadata": {},
   "outputs": [],
   "source": [
    "#split the train.csv into a training set and a validation set\n",
    "X_train, X_validate = np.split(X,[int(.5*len(X))])\n",
    "y_train, y_validate = np.split(y,[int(.5*len(y))])"
   ]
  },
  {
   "cell_type": "markdown",
   "id": "0a2fdb4a",
   "metadata": {},
   "source": [
    "for the graph there needs to be no extra modifications to the csv file after it is read"
   ]
  },
  {
   "cell_type": "code",
   "execution_count": null,
   "id": "e6a539df",
   "metadata": {},
   "outputs": [],
   "source": [
    "vecto=[]\n",
    "[vecto.append(random.randrange(1,250000,1)) for i in range (1,1000)]\n",
    "for i in range (2,16):\n",
    "    plt.figure(i)\n",
    "    plt.scatter(train[vecto,i],train[vecto,1])"
   ]
  },
  {
   "cell_type": "code",
   "execution_count": null,
   "id": "ee3a763b",
   "metadata": {},
   "outputs": [],
   "source": [
    "vecto=[]\n",
    "[vecto.append(random.randrange(250000)) for i in range (1,1000)]\n",
    "for i in range (17,32):\n",
    "    plt.figure(i)\n",
    "    plt.scatter(train[vecto,i],train[vecto,1])"
   ]
  },
  {
   "cell_type": "code",
   "execution_count": null,
   "id": "e979f9fb",
   "metadata": {},
   "outputs": [],
   "source": [
    "trainb=[]\n",
    "trains=[]\n",
    "for i in train[1:250000,:]:\n",
    "    if i[1]==\"b\":\n",
    "        trainb.append(i)\n",
    "    else:\n",
    "        trains.append(i)\n",
    "trains=np.asarray(trains)\n",
    "trainb=np.asarray(trainb)"
   ]
  },
  {
   "cell_type": "code",
   "execution_count": null,
   "id": "2ab7ffda",
   "metadata": {},
   "outputs": [],
   "source": [
    "vecto=[]\n",
    "vect=[]\n",
    "[vecto.append(random.randrange(len(trainb))) for i in range (1,500)]\n",
    "[vect.append(random.randrange(len(trains))) for i in range (1,500)]\n",
    "print(len(vect),len(trains))\n",
    "for i in range (2,5):\n",
    "    for j in range (2,5):\n",
    "        plt.figure(i+j)\n",
    "        plt.subplot(1, 2, 1)\n",
    "        plt.scatter(trainb[vecto,i],trainb[vecto,j],color='blue')\n",
    "        plt.subplot(1, 2, 2)\n",
    "        plt.scatter(trains[vect,i],trains[vect,j],color='red')"
   ]
  }
 ],
 "metadata": {
  "interpreter": {
   "hash": "8ff1774c64d83fce3825259fa3771bbe70271854497325f5fa1e2c1b92279703"
  },
  "kernelspec": {
   "display_name": "Python 3",
   "language": "python",
   "name": "python3"
  },
  "language_info": {
   "codemirror_mode": {
    "name": "ipython",
    "version": 3
   },
   "file_extension": ".py",
   "mimetype": "text/x-python",
   "name": "python",
   "nbconvert_exporter": "python",
   "pygments_lexer": "ipython3",
   "version": "3.8.8"
  }
 },
 "nbformat": 4,
 "nbformat_minor": 5
}

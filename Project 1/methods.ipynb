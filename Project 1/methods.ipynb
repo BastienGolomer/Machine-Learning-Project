{
 "cells": [
  {
   "cell_type": "markdown",
   "metadata": {},
   "source": [
    "## Project 1 Methods\n"
   ]
  },
  {
   "cell_type": "code",
   "execution_count": 2,
   "metadata": {},
   "outputs": [],
   "source": [
    "# only package allowed\n",
    "import numpy as np "
   ]
  },
  {
   "cell_type": "markdown",
   "metadata": {},
   "source": [
    "### Linear regression using gradient descent\n",
    "least_squares_GD(y, tx, initial_w, max iters, gamma)\n",
    "Bastien L."
   ]
  },
  {
   "cell_type": "code",
   "execution_count": null,
   "metadata": {},
   "outputs": [],
   "source": [
    "def least_square_GD(y, tx, initial_w, max_iters, gamma):\n",
    "    w = [initial_w]\n",
    "    loss = []\n",
    "    for iteration in max_iters:\n",
    "        losses.append(compute_loss(y, tx, w[-1]))\n",
    "        wint = w[-1] - gamma * calc_gradient(y, tx, w[-1])\n",
    "        w.append(wint)\n",
    "    return w, losses"
   ]
  },
  {
   "cell_type": "code",
   "execution_count": null,
   "metadata": {},
   "outputs": [],
   "source": [
    "# We compute the loss using the Mean-Squared Error\n",
    "\n",
    "def compute_loss(y, tx, w):\n",
    "    return np.mean((y - tx.dot(w))**2)/2 "
   ]
  },
  {
   "cell_type": "code",
   "execution_count": null,
   "metadata": {},
   "outputs": [],
   "source": [
    "def calc_gradient(y, tx, w):\n",
    "    e = y - tx.dot(w)\n",
    "    grad = -tx.T.dot(e)/len(e)\n",
    "    return grad, e"
   ]
  },
  {
   "cell_type": "markdown",
   "metadata": {},
   "source": [
    "### Linear regression using stochastic gradient descent\n",
    "least_squares_SGD(y, tx, initial_w, max iters, gamma)\n",
    "Bastien G."
   ]
  },
  {
   "cell_type": "code",
   "execution_count": null,
   "metadata": {},
   "outputs": [],
   "source": [
    "def least_squares_SGD(y, tx, initial_w, max_iters, gamma) : \n",
    "    N = len(tx) # max number of x_n\n",
    "    w = [initial_w]\n",
    "    losses = []\n",
    "\n",
    "    for iteration in max_iters:\n",
    "        n = random.randint(0, N-1) \n",
    "        xn = tx[n]\n",
    "        losses.append(compute_loss(y, xn, w[-1]))\n",
    "        wint = w[-1] - gamma * calc_gradient_n(y, xn, w[-1])\n",
    "        w.append(wint)\n",
    "    return w, losses"
   ]
  },
  {
   "cell_type": "markdown",
   "metadata": {},
   "source": [
    "### Least squares regression using normal equations\n",
    "least_squares(y, tx)\n",
    "Arthur"
   ]
  },
  {
   "cell_type": "code",
   "execution_count": null,
   "metadata": {},
   "outputs": [],
   "source": [
    "def least_squares(y, tx):\n",
    "    a = tx.T.dot(tx)\n",
    "    b = tx.T.dot(y)\n",
    "    w = np.linalg.solve(a,b)\n",
    "    return w, compute_loss(y, tx, w)"
   ]
  },
  {
   "cell_type": "markdown",
   "metadata": {},
   "source": [
    "### Ridge regression using normal equations\n",
    "ridge_regression(y, tx, lambda)\n",
    "Arthur"
   ]
  },
  {
   "cell_type": "code",
   "execution_count": 1,
   "metadata": {},
   "outputs": [],
   "source": [
    "def ridge_regression(y, tx, lambda_):\n",
    "    aI = 2 * tx.shape[0] * lambda_ * np.identity(tx.shape[1])\n",
    "    a = tx.T.dot(tx) + aI\n",
    "    b = tx.T.dot(y)\n",
    "    w = np.linalg.solve(a, b)\n",
    "    return w, compute_loss(y, tx, w)"
   ]
  },
  {
   "cell_type": "markdown",
   "metadata": {},
   "source": [
    "### Logistic regression using gradient descent or SGD\n",
    "logistic_regression(y, tx, initial w, max iters, gamma)\n",
    "Bastien G."
   ]
  },
  {
   "cell_type": "code",
   "execution_count": null,
   "metadata": {},
   "outputs": [],
   "source": [
    "def logistic_regression(y, tx, initial_w, max_iters, gamma):\n",
    "    w = [initial_w]\n",
    "    losses = []\n",
    "    for iteration in max_iters:\n",
    "        wint = w[-1] - gamma * calc_gradient_sigm(y, tx, w[-1])\n",
    "        losses.append(compute_log_loss(y, tx, wint))\n",
    "        w.append(wint)\n",
    "    return w, losses"
   ]
  },
  {
   "cell_type": "code",
   "execution_count": null,
   "metadata": {},
   "outputs": [],
   "source": [
    "def calc_gradient_sigm(y, tx, w):\n",
    "    e = sigmoid(tx.dot(w)) - y\n",
    "    grad = tx.T.dot(e)\n",
    "    return grad, e"
   ]
  },
  {
   "cell_type": "markdown",
   "metadata": {},
   "source": [
    "### Regularized logistic regression using gradient descent or SGD\n",
    "reg_logistic_regression(y, tx, lambda , initial w, max iters, gamma)\n",
    "Bastien L."
   ]
  },
  {
   "cell_type": "code",
   "execution_count": null,
   "metadata": {},
   "outputs": [],
   "source": [
    "def reg_logistic_regression(y, tx, lambda_, initial_w, max_iters, gamma):\n",
    "    w = [initial_w]\n",
    "    loss = []\n",
    "    for iteration in max_iters:\n",
    "        wint = w[-1] - gamma * calc_gradient(y, tx, w[-1])\n",
    "        losses.append(compute_log_loss(y, tx, wint) - lambda_/(2 * m) * sum(wint))\n",
    "        w.append(wint)\n",
    "    return w, losses"
   ]
  },
  {
   "cell_type": "code",
   "execution_count": null,
   "metadata": {},
   "outputs": [],
   "source": [
    "def compute_log_loss(y, tx, w):\n",
    "    return sum(y * log(sigmoid(tx.dot(w))) + (1 - y) * log(1 - sigmoid(tx.dot(w))))/len(y)"
   ]
  },
  {
   "cell_type": "code",
   "execution_count": null,
   "metadata": {},
   "outputs": [],
   "source": [
    "def log_gradient(y, tx, w):\n",
    "    w[0] = sum(sigmoid(tx.dot(w)) - y) * tx[0]\n",
    "    w[1:end] = sum(sigmoid(tx.dot(w)) - y) * tx[1:end] + lambda_/len(w[1:end]) * w\n",
    "    return w"
   ]
  },
  {
   "cell_type": "code",
   "execution_count": null,
   "metadata": {},
   "outputs": [],
   "source": [
    "def sigmoid(x):\n",
    "    return(1/(1+np.exp(-x)))"
   ]
  }
 ],
 "metadata": {
  "interpreter": {
   "hash": "916dbcbb3f70747c44a77c7bcd40155683ae19c65e1c03b4aa3499c5328201f1"
  },
  "kernelspec": {
   "display_name": "Python 3",
   "language": "python",
   "name": "python3"
  },
  "language_info": {
   "codemirror_mode": {
    "name": "ipython",
    "version": 3
   },
   "file_extension": ".py",
   "mimetype": "text/x-python",
   "name": "python",
   "nbconvert_exporter": "python",
   "pygments_lexer": "ipython3",
   "version": "3.8.8"
  }
 },
 "nbformat": 4,
 "nbformat_minor": 2
}
